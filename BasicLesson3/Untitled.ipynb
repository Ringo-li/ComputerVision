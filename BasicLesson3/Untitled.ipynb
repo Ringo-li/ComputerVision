{
 "cells": [
  {
   "cell_type": "code",
   "execution_count": 1,
   "id": "3c1101d0-ec00-49b4-a331-0e5e2d178c42",
   "metadata": {},
   "outputs": [],
   "source": [
    "import numpy as np"
   ]
  },
  {
   "cell_type": "code",
   "execution_count": 2,
   "id": "f560fd7a-48e2-466a-9b82-34fbac9093ab",
   "metadata": {},
   "outputs": [],
   "source": [
    "list_c = [1, 2, 3, 4]"
   ]
  },
  {
   "cell_type": "code",
   "execution_count": 3,
   "id": "6329a7a8-e1a5-4efe-8835-5574217c4573",
   "metadata": {},
   "outputs": [
    {
     "data": {
      "text/plain": [
       "list"
      ]
     },
     "execution_count": 3,
     "metadata": {},
     "output_type": "execute_result"
    }
   ],
   "source": [
    "type(list_c)"
   ]
  },
  {
   "cell_type": "code",
   "execution_count": 6,
   "id": "287ff6b3-eb07-4937-987c-12d9baff4bc2",
   "metadata": {},
   "outputs": [],
   "source": [
    "array_c = np.array(list_c)"
   ]
  },
  {
   "cell_type": "code",
   "execution_count": 7,
   "id": "66d14c27-6a4f-4e22-b865-927a2e2d6884",
   "metadata": {},
   "outputs": [
    {
     "data": {
      "text/plain": [
       "numpy.ndarray"
      ]
     },
     "execution_count": 7,
     "metadata": {},
     "output_type": "execute_result"
    }
   ],
   "source": [
    "type(array_c)"
   ]
  },
  {
   "cell_type": "code",
   "execution_count": 8,
   "id": "3b4a29e9-8c24-4e08-825a-f4f94f02d65b",
   "metadata": {},
   "outputs": [
    {
     "data": {
      "text/plain": [
       "array([1, 2, 3, 4])"
      ]
     },
     "execution_count": 8,
     "metadata": {},
     "output_type": "execute_result"
    }
   ],
   "source": [
    "array_c"
   ]
  },
  {
   "cell_type": "code",
   "execution_count": 9,
   "id": "e6ceb1ce-287f-4688-b30a-85166236baa6",
   "metadata": {},
   "outputs": [
    {
     "data": {
      "text/plain": [
       "array([0, 1, 2, 3, 4, 5, 6, 7, 8, 9])"
      ]
     },
     "execution_count": 9,
     "metadata": {},
     "output_type": "execute_result"
    }
   ],
   "source": [
    "np.arange(0, 10)"
   ]
  },
  {
   "cell_type": "code",
   "execution_count": 11,
   "id": "687a0ca7-f0c0-4f0b-9f95-a946b8bdbb53",
   "metadata": {},
   "outputs": [
    {
     "data": {
      "text/plain": [
       "array([0, 2, 4, 6, 8])"
      ]
     },
     "execution_count": 11,
     "metadata": {},
     "output_type": "execute_result"
    }
   ],
   "source": [
    "np.arange(0,10,2)"
   ]
  },
  {
   "cell_type": "code",
   "execution_count": 15,
   "id": "2cbea4da-2a6f-41bc-a802-a7a1d9209389",
   "metadata": {},
   "outputs": [
    {
     "data": {
      "text/plain": [
       "array([[1., 1., 1., 1., 1.],\n",
       "       [1., 1., 1., 1., 1.],\n",
       "       [1., 1., 1., 1., 1.],\n",
       "       [1., 1., 1., 1., 1.],\n",
       "       [1., 1., 1., 1., 1.]])"
      ]
     },
     "execution_count": 15,
     "metadata": {},
     "output_type": "execute_result"
    }
   ],
   "source": [
    "np.ones(shape=(5,5))"
   ]
  },
  {
   "cell_type": "code",
   "execution_count": 16,
   "id": "20d6e6be-fafc-4ceb-8d44-73aea504d2a9",
   "metadata": {},
   "outputs": [],
   "source": [
    "arr = np.random.randint(0, 100, 10)"
   ]
  },
  {
   "cell_type": "code",
   "execution_count": 17,
   "id": "217a0993-a097-4ab8-b754-1785d0497a72",
   "metadata": {},
   "outputs": [
    {
     "data": {
      "text/plain": [
       "array([35, 99, 32, 79, 13, 32, 74, 48, 78, 56])"
      ]
     },
     "execution_count": 17,
     "metadata": {},
     "output_type": "execute_result"
    }
   ],
   "source": [
    "arr"
   ]
  },
  {
   "cell_type": "code",
   "execution_count": 19,
   "id": "95d3a4f4-e64f-411f-bd80-2834b360b0ef",
   "metadata": {},
   "outputs": [
    {
     "data": {
      "text/plain": [
       "99"
      ]
     },
     "execution_count": 19,
     "metadata": {},
     "output_type": "execute_result"
    }
   ],
   "source": [
    "arr.max()"
   ]
  },
  {
   "cell_type": "code",
   "execution_count": 22,
   "id": "5e16cb71-deb6-435a-80fb-8f44c5c8d354",
   "metadata": {},
   "outputs": [
    {
     "data": {
      "text/plain": [
       "4"
      ]
     },
     "execution_count": 22,
     "metadata": {},
     "output_type": "execute_result"
    }
   ],
   "source": [
    "arr.argmin()"
   ]
  },
  {
   "cell_type": "code",
   "execution_count": 23,
   "id": "67fa9163-8770-4542-b260-ba6f9826023f",
   "metadata": {},
   "outputs": [
    {
     "data": {
      "text/plain": [
       "54.6"
      ]
     },
     "execution_count": 23,
     "metadata": {},
     "output_type": "execute_result"
    }
   ],
   "source": [
    "arr.mean()"
   ]
  },
  {
   "cell_type": "code",
   "execution_count": 25,
   "id": "3329aeef-7236-45ce-b507-3bd9889beb82",
   "metadata": {},
   "outputs": [
    {
     "data": {
      "text/plain": [
       "(10,)"
      ]
     },
     "execution_count": 25,
     "metadata": {},
     "output_type": "execute_result"
    }
   ],
   "source": [
    "arr.shape"
   ]
  },
  {
   "cell_type": "code",
   "execution_count": 27,
   "id": "e9099c78-5a18-4626-b4f0-36cfea3b48d2",
   "metadata": {},
   "outputs": [
    {
     "data": {
      "text/plain": [
       "array([[35, 99],\n",
       "       [32, 79],\n",
       "       [13, 32],\n",
       "       [74, 48],\n",
       "       [78, 56]])"
      ]
     },
     "execution_count": 27,
     "metadata": {},
     "output_type": "execute_result"
    }
   ],
   "source": [
    "arr.reshape(5,2)"
   ]
  },
  {
   "cell_type": "code",
   "execution_count": 28,
   "id": "f6967a7d-1560-4510-8bf4-febca5fa7228",
   "metadata": {},
   "outputs": [],
   "source": [
    "matrix = np.arange(0,100).reshape(10,10)"
   ]
  },
  {
   "cell_type": "code",
   "execution_count": 29,
   "id": "532896e8-baca-4a81-bef1-723e57e96cb4",
   "metadata": {},
   "outputs": [
    {
     "data": {
      "text/plain": [
       "array([[ 0,  1,  2,  3,  4,  5,  6,  7,  8,  9],\n",
       "       [10, 11, 12, 13, 14, 15, 16, 17, 18, 19],\n",
       "       [20, 21, 22, 23, 24, 25, 26, 27, 28, 29],\n",
       "       [30, 31, 32, 33, 34, 35, 36, 37, 38, 39],\n",
       "       [40, 41, 42, 43, 44, 45, 46, 47, 48, 49],\n",
       "       [50, 51, 52, 53, 54, 55, 56, 57, 58, 59],\n",
       "       [60, 61, 62, 63, 64, 65, 66, 67, 68, 69],\n",
       "       [70, 71, 72, 73, 74, 75, 76, 77, 78, 79],\n",
       "       [80, 81, 82, 83, 84, 85, 86, 87, 88, 89],\n",
       "       [90, 91, 92, 93, 94, 95, 96, 97, 98, 99]])"
      ]
     },
     "execution_count": 29,
     "metadata": {},
     "output_type": "execute_result"
    }
   ],
   "source": [
    "matrix"
   ]
  },
  {
   "cell_type": "code",
   "execution_count": 30,
   "id": "2ee05c44-328d-4a71-ae71-a43974db1863",
   "metadata": {},
   "outputs": [
    {
     "data": {
      "text/plain": [
       "53"
      ]
     },
     "execution_count": 30,
     "metadata": {},
     "output_type": "execute_result"
    }
   ],
   "source": [
    "matrix[5,3]"
   ]
  },
  {
   "cell_type": "code",
   "execution_count": 32,
   "id": "3550ac59-b27f-4589-bb78-7686dfe18ff2",
   "metadata": {},
   "outputs": [
    {
     "data": {
      "text/plain": [
       "array([30, 31, 32, 33, 34, 35, 36, 37, 38, 39])"
      ]
     },
     "execution_count": 32,
     "metadata": {},
     "output_type": "execute_result"
    }
   ],
   "source": [
    "matrix[3,:]"
   ]
  },
  {
   "cell_type": "code",
   "execution_count": 33,
   "id": "13e6bfb2-5016-443f-9f93-3b80535d8224",
   "metadata": {},
   "outputs": [
    {
     "data": {
      "text/plain": [
       "array([ 3, 13, 23, 33, 43, 53, 63, 73, 83, 93])"
      ]
     },
     "execution_count": 33,
     "metadata": {},
     "output_type": "execute_result"
    }
   ],
   "source": [
    "matrix[:,3]"
   ]
  },
  {
   "cell_type": "code",
   "execution_count": 34,
   "id": "b5d394c7-9bf4-45d2-856b-aee2b3a23a71",
   "metadata": {},
   "outputs": [
    {
     "data": {
      "text/plain": [
       "array([[ 3],\n",
       "       [13],\n",
       "       [23],\n",
       "       [33],\n",
       "       [43],\n",
       "       [53],\n",
       "       [63],\n",
       "       [73],\n",
       "       [83],\n",
       "       [93]])"
      ]
     },
     "execution_count": 34,
     "metadata": {},
     "output_type": "execute_result"
    }
   ],
   "source": [
    "matrix[:,3].reshape(10,1)"
   ]
  },
  {
   "cell_type": "code",
   "execution_count": 37,
   "id": "b8cd4331-4ecc-437f-aad0-a1c6823c468e",
   "metadata": {},
   "outputs": [
    {
     "data": {
      "text/plain": [
       "array([[43, 44, 45, 46, 47],\n",
       "       [53, 54, 55, 56, 57],\n",
       "       [63, 64, 65, 66, 67]])"
      ]
     },
     "execution_count": 37,
     "metadata": {},
     "output_type": "execute_result"
    }
   ],
   "source": [
    "matrix[4:7,3:8]"
   ]
  },
  {
   "cell_type": "code",
   "execution_count": 38,
   "id": "990ea51e-0e04-41e5-8cac-f8b55873f81d",
   "metadata": {},
   "outputs": [],
   "source": [
    "matrix[4:7,3:8] = 0"
   ]
  },
  {
   "cell_type": "code",
   "execution_count": 39,
   "id": "1eaaf04f-5c81-4d6c-83f9-5d63cabab01f",
   "metadata": {},
   "outputs": [
    {
     "data": {
      "text/plain": [
       "array([[ 0,  1,  2,  3,  4,  5,  6,  7,  8,  9],\n",
       "       [10, 11, 12, 13, 14, 15, 16, 17, 18, 19],\n",
       "       [20, 21, 22, 23, 24, 25, 26, 27, 28, 29],\n",
       "       [30, 31, 32, 33, 34, 35, 36, 37, 38, 39],\n",
       "       [40, 41, 42,  0,  0,  0,  0,  0, 48, 49],\n",
       "       [50, 51, 52,  0,  0,  0,  0,  0, 58, 59],\n",
       "       [60, 61, 62,  0,  0,  0,  0,  0, 68, 69],\n",
       "       [70, 71, 72, 73, 74, 75, 76, 77, 78, 79],\n",
       "       [80, 81, 82, 83, 84, 85, 86, 87, 88, 89],\n",
       "       [90, 91, 92, 93, 94, 95, 96, 97, 98, 99]])"
      ]
     },
     "execution_count": 39,
     "metadata": {},
     "output_type": "execute_result"
    }
   ],
   "source": [
    "matrix"
   ]
  },
  {
   "cell_type": "code",
   "execution_count": null,
   "id": "be29cb5c-8dba-4e33-b4c5-e32a7ae96efb",
   "metadata": {},
   "outputs": [],
   "source": []
  }
 ],
 "metadata": {
  "kernelspec": {
   "display_name": "Python 3 (ipykernel)",
   "language": "python",
   "name": "python3"
  },
  "language_info": {
   "codemirror_mode": {
    "name": "ipython",
    "version": 3
   },
   "file_extension": ".py",
   "mimetype": "text/x-python",
   "name": "python",
   "nbconvert_exporter": "python",
   "pygments_lexer": "ipython3",
   "version": "3.10.9"
  }
 },
 "nbformat": 4,
 "nbformat_minor": 5
}
